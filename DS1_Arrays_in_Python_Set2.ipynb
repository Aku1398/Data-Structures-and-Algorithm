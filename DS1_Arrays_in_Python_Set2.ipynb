{
  "nbformat": 4,
  "nbformat_minor": 0,
  "metadata": {
    "colab": {
      "provenance": []
    },
    "kernelspec": {
      "name": "python3",
      "display_name": "Python 3"
    },
    "language_info": {
      "name": "python"
    }
  },
  "cells": [
    {
      "cell_type": "markdown",
      "source": [
        "# Array in Python\n",
        "##1.**typecode**: This function **returns the data type by which array is initialised**.\n",
        "##2.**itemsize**: This function **returns size in bytes of a single array element**.\n",
        "##3.**buffer_info()**: **Returns a tuple representing the address** in which array is stored and number of element.\n",
        "##4.**extend(arr)**: This function **appends a whole array mentioned in its arguments** to the specified array.\n",
        "##5.**count()**: This function **counts the number of occurrences of argument mentioned in array**\n",
        "##6.**fromlist(list)**: This function is used to **append a list mentioned in its argument to end of array**.\n",
        "##7.**tolist()**: This function is used to **transform an array into a list**.\n"
      ],
      "metadata": {
        "id": "T89zW2Qn3yRW"
      }
    },
    {
      "cell_type": "code",
      "execution_count": 5,
      "metadata": {
        "colab": {
          "base_uri": "https://localhost:8080/"
        },
        "id": "wwl7Navl2u_2",
        "outputId": "70380764-5591-4a19-c761-f9b43b3399da"
      },
      "outputs": [
        {
          "output_type": "stream",
          "name": "stdout",
          "text": [
            "typecode1 : i\n",
            "itemsize : 4\n",
            "buffer_info : (140349029241392, 8)\n"
          ]
        }
      ],
      "source": [
        "## Python code of working of typecode, itemsize, buffer_info()\n",
        "\n",
        "#importing \"array\" from array operations\n",
        "import array\n",
        "\n",
        "#initializing array with array values\n",
        "#initializing array with signed integers\n",
        "arr = array.array('i', [1,2,3,4,5,6,7,8])\n",
        "\n",
        "#using typecode to print datatupe of array\n",
        "print(\"typecode1 : \",end=\"\")\n",
        "print(arr.typecode)\n",
        "\n",
        "#using itemsize to print the size of items present on array\n",
        "print(\"itemsize : \",end=\"\")\n",
        "print(arr.itemsize)\n",
        "\n",
        "#using buffer_info() to print buffer info of array\n",
        "print(\"buffer_info : \",end=\"\")\n",
        "print(arr.buffer_info())\n"
      ]
    },
    {
      "cell_type": "code",
      "source": [
        "#Python code with count() and extend()\n",
        "\n",
        "#importing \"array\" for array operations\n",
        "import array\n",
        "\n",
        "#initializing array 1 with array values\n",
        "arr1 = array.array('i', [1,2,3,4,5,6,7,8])\n",
        "\n",
        "#initializing array 2 with array values\n",
        "arr2 = array.array('i', [1,2,3])\n",
        "\n",
        "#using count() to count occurrences of 1 in array\n",
        "print(\"The occurences of 1 in array is : \", end=\"\")\n",
        "print(arr1.count(1))\n",
        "\n",
        "#using extend() to dd array 2 elements to array 1 \n",
        "arr1.extend(arr2)\n",
        "\n",
        "print(\"The modification array is :\")\n",
        "for i in range(0,9):\n",
        "  print(arr1[i])\n",
        "\n",
        "\n"
      ],
      "metadata": {
        "colab": {
          "base_uri": "https://localhost:8080/"
        },
        "id": "TOAH0GKN6oCA",
        "outputId": "ca5d6799-2e5e-4968-fd63-74af1744e032"
      },
      "execution_count": 8,
      "outputs": [
        {
          "output_type": "stream",
          "name": "stdout",
          "text": [
            "The occurences of 1 in array is : 1\n",
            "The modification array is :\n",
            "1\n",
            "2\n",
            "3\n",
            "4\n",
            "5\n",
            "6\n",
            "7\n",
            "8\n",
            "1\n"
          ]
        }
      ]
    },
    {
      "cell_type": "code",
      "source": [
        "# Python code with formlist() and tolist()\n",
        "\n",
        "#importing \"array\" for array operations\n",
        "import array\n",
        "\n",
        "#initializing array with array values\n",
        "arr = array.array('i', [1,2,3,1,2,5])\n",
        "\n",
        "#initializing list\n",
        "li = [1,2,3]\n",
        "\n",
        "#using fromlist() to append list at end of array\n",
        "arr.fromlist(li)\n",
        "\n",
        "#printing the modified array\n",
        "print(\"The modified array is :\",end=\"\")\n",
        "for i in range(0,9):\n",
        "  print(arr[i],end=\" \")\n",
        "\n",
        "#using tolit() to convert array into list\n",
        "li2 = arr.tolist()\n",
        "\n",
        "print(\"\\r\")\n",
        "\n",
        "#printing the new list\n",
        "print(\"The new list created is : \",end=\"\")\n",
        "for i in range(0,len(li2)):\n",
        "  print(li2[i],end=\" \")"
      ],
      "metadata": {
        "colab": {
          "base_uri": "https://localhost:8080/"
        },
        "id": "HDrbHLNq9B6a",
        "outputId": "a49964ee-b81e-4472-e6cb-a25fa22d9e43"
      },
      "execution_count": 10,
      "outputs": [
        {
          "output_type": "stream",
          "name": "stdout",
          "text": [
            "The modified array is :1 2 3 1 2 5 1 2 3 \r\n",
            "The new list created is : 1 2 3 1 2 5 1 2 3 "
          ]
        }
      ]
    },
    {
      "cell_type": "code",
      "source": [],
      "metadata": {
        "id": "MBl8EX83D9Xq"
      },
      "execution_count": null,
      "outputs": []
    }
  ]
}