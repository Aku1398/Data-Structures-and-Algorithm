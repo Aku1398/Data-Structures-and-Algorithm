{
  "nbformat": 4,
  "nbformat_minor": 0,
  "metadata": {
    "colab": {
      "provenance": []
    },
    "kernelspec": {
      "name": "python3",
      "display_name": "Python 3"
    },
    "language_info": {
      "name": "python"
    }
  },
  "cells": [
    {
      "cell_type": "markdown",
      "source": [
        "#Single Linked List Examples\n"
      ],
      "metadata": {
        "id": "Lk4_rZ-F-ecx"
      }
    },
    {
      "cell_type": "markdown",
      "source": [
        "##Insertion Operation\n",
        "##**1.Inserting At the Beginning of the list**"
      ],
      "metadata": {
        "id": "raHKHP3S-55o"
      }
    },
    {
      "cell_type": "code",
      "execution_count": null,
      "metadata": {
        "id": "6drSvtDM-XbQ"
      },
      "outputs": [],
      "source": [
        "#Node class\n",
        "class Node:\n",
        "  #Function to initialize the node object\n",
        "  def __init__(self,data):\n",
        "    self.data = data #Assign data \n",
        "    self.next = None #Initialize next as null\n",
        "\n",
        "#Linked List class\n",
        "class LinkedList:\n",
        "  ##Function ti initialize the LInked List object\n",
        "  def __init(self):\n",
        "    self.head = None"
      ]
    },
    {
      "cell_type": "markdown",
      "source": [
        "### In this post,method to insert a new node in the linked list are discussed. A node can be added in three ways\n",
        "###1.At the front of the linked list\n",
        "###2.After a given node.\n",
        "###3.Athe the end of the linked list.\n"
      ],
      "metadata": {
        "id": "MQ2KUT5PAJsr"
      }
    },
    {
      "cell_type": "markdown",
      "source": [
        "###1.Add a node at the front of linked list (Using 4 steps)\n",
        "\n"
      ],
      "metadata": {
        "id": "C7s25mQSAnF2"
      }
    },
    {
      "cell_type": "code",
      "source": [
        "#Node class\n",
        "class Node:\n",
        "  #Function to initialize the node object\n",
        "  def __init__(self,data):\n",
        "    self.data = data #Assign data \n",
        "    self.next = None #Initialize next as null\n",
        "\n",
        "#Linked List class\n",
        "class LinkedList:\n",
        "  ##Function ti initialize the LInked List object\n",
        "  def __init(self):\n",
        "    self.head = None\n",
        "\n",
        "  #This function is in Linked list class\n",
        "  #Function to insert a new node at the beginning\n",
        "  def push(self, new_data):\n",
        "\n",
        "    #1 & 2: Allocate the Node and Put in the data\n",
        "    new_node = Node(new_data)\n",
        "\n",
        "    #3: Make next of new Node as head\n",
        "    new_node.next = self.head\n",
        "\n",
        "    #4: Move the head to point to new Node\n",
        "    self.head = new_node\n",
        "\n"
      ],
      "metadata": {
        "id": "Hy9jGMOQ-li7"
      },
      "execution_count": null,
      "outputs": []
    },
    {
      "cell_type": "markdown",
      "source": [
        "###2.Add a node after a given node:(Using 5 Steps)\n",
        "####i.Firstly, check if the given previous node is NULL or not.\n",
        "####ii.Then,allocate a new node and\n",
        "####iii.Assign the data to the new node\n",
        "####iv.And then make the next of the new node as the next of previous node.\n",
        "####v.Finally, move the next of the previous node as a new node.\n"
      ],
      "metadata": {
        "id": "sYWsLyb7Ci9y"
      }
    },
    {
      "cell_type": "code",
      "source": [
        "#Inserts a new node after the given prev_node.\n",
        "#This method is defined inside Linked List Class.\n",
        "\n",
        "#Node class\n",
        "class Node:\n",
        "  #Function to initialize the node object\n",
        "  def __init__(self,data):\n",
        "    self.data = data #Assign data \n",
        "    self.next = None #Initialize next as null\n",
        "\n",
        "#Linked List class\n",
        "class LinkedList:\n",
        "  ##Function ti initialize the LInked List object\n",
        "  def __init__(self):\n",
        "    self.head = None\n",
        "  \n",
        "  def insertAfter(self, prev_node, new_data):\n",
        "\n",
        "    #1.check if the given prev_node, new_data\n",
        "    if prev_node is None:\n",
        "      print(\"The given previous node must inLinkedList.\")\n",
        "      return\n",
        "\n",
        "    #2.Create new node \n",
        "    #3.Put in the data\n",
        "    new_node = Node(new_data)\n",
        "\n",
        "    #4.Make next of new Node as next of prev_node\n",
        "    new_node.next = prev_node.next\n",
        "\n",
        "    #5. Make next of prev_node as new_node\n",
        "    prev_node.next = new_node"
      ],
      "metadata": {
        "id": "gTjiVBzmCLGx"
      },
      "execution_count": null,
      "outputs": []
    },
    {
      "cell_type": "markdown",
      "source": [
        "###3.Add a node at the end: (6 stpe Procedure)"
      ],
      "metadata": {
        "id": "spw9031Df0ZY"
      }
    },
    {
      "cell_type": "code",
      "source": [
        "class Node:\n",
        "  def __init__(self,data):\n",
        "    self.data = data ##Assigne data \n",
        "    self.next = None ##initialize next as None\n",
        "\n",
        "#Create Linked list class\n",
        "class LinkedList:\n",
        "  ##Function ti initialize the LInked List object\n",
        "  def __init__(self):\n",
        "    self.head = None\n",
        "\n",
        "  #Append the new node at the end of the defined inside of Linked List Class\n",
        "  def append(self,new_data):\n",
        "\n",
        "    #1.Create a new node\n",
        "    #2.Pust in the data\n",
        "    #3.Set next as None\n",
        "    new_node = Node(new_data)\n",
        "\n",
        "    #4.If the Linked List is empty, then make the new node as head\n",
        "    if self.head is None:\n",
        "      self.head = new_node\n",
        "      return\n",
        "    \n",
        "    #5.Else traverse till the last node\n",
        "    last = self.head\n",
        "    while (last.next):\n",
        "      last.next = new_node\n",
        "\n",
        "    #6.Change the next of the last node\n",
        "    last.next = new_node\n",
        "    "
      ],
      "metadata": {
        "id": "aqihy-4PGhPC"
      },
      "execution_count": null,
      "outputs": []
    },
    {
      "cell_type": "markdown",
      "source": [
        "### Complete Working Program to demonstrate all insertion methods of linked list.\n"
      ],
      "metadata": {
        "id": "vNiuARsliVpL"
      }
    },
    {
      "cell_type": "code",
      "source": [
        "#Complete Program\n",
        "\n",
        "# Node Class\n",
        "class Node:\n",
        "\n",
        "  #Function to initialize the node object\n",
        "  def __init__(self,data):\n",
        "    self.data = data #Assign data\n",
        "    self.next = None #initialize the next as None\n",
        "\n",
        "#Linked List class contains node object\n",
        "class LinkedList:\n",
        "\n",
        "  #Function to initialize head\n",
        "  def __init__(self):\n",
        "    self.head = None\n",
        "\n",
        "    ##Function to insert a new node at beginning \n",
        "  def push(self,new_data):\n",
        "\n",
        "    ##1&2:Allocate the node and Put in the data \n",
        "    new_node =  Node(new_data)\n",
        "\n",
        "    ##3.make next of nnew node as head\n",
        "    new_node.next = self.head\n",
        "\n",
        "    ##4.  Move the head to point to new node\n",
        "    self.head = new_node\n",
        "\n",
        "    ##----------------------------------------\n",
        "\n",
        "    ##Insert a new node after the given prev_node\n",
        "  def insertAfter(self,prev_node,new_data):\n",
        "    #1.check if the given prev_node exists\n",
        "    if prev_node is None:\n",
        "      print(\"The given previous node must in Linkeled List\")\n",
        "      return\n",
        "      \n",
        "    #2&3.Create new node and Put in the data \n",
        "    new_node = Node(new_data)\n",
        "\n",
        "    #4.Make the next of new node as next of prev Node\n",
        "    new_node.next = prev_node.next\n",
        "\n",
        "    #5.make next of prev_no0de as new node\n",
        "    prev_node.next = new_node\n",
        "\n",
        "    ##----------------------------------------\n",
        "    \n",
        "  ##Appends a new node at the end\n",
        "\n",
        "  def append(self,new_data):\n",
        "\n",
        "    ##1&2&3. Create a new node, Put in the data, set next as None.\n",
        "    new_node = Node(new_data)\n",
        "\n",
        "    #4.If the linked list is empty, then make a new node as head\n",
        "    if self.head is None:\n",
        "      self.head = new_node\n",
        "      return\n",
        "\n",
        "    #5.Else traverse till the last node\n",
        "    last = self.head \n",
        "    while (last.next):\n",
        "      last = last.next\n",
        "\n",
        "    #6.Change the next of the last node\n",
        "    last.next = new_node\n",
        "\n",
        "  #Utility function to print the linked list\n",
        "  def printList(self):\n",
        "    temp = self.head\n",
        "    while (temp):\n",
        "      print(temp.data,end=\" \")\n",
        "      temp = temp.next\n",
        "\n",
        "# Code Execution starts here\n",
        "if __name__=='__main__':\n",
        "\n",
        "  #Start with the empty list\n",
        "  llist = LinkedList()\n",
        "\n",
        "  #Insert 6. So linked list become 6-> None\n",
        "  llist.append(6)\n",
        "\n",
        "  print(\"Created linked List when 6 is added : \",end=\"\")\n",
        "  llist.printList()\n",
        "\n",
        "  print(\"\\r\")\n",
        "\n",
        "  #Insert 7 at the beginning So linked list becomes 7->6\n",
        "  llist.push(7);\n",
        "\n",
        "  print(\"Insert 7 at the beginning linked List is : \",end=\"\")\n",
        "  llist.printList()\n",
        "  \n",
        "  print(\"\\r\")\n",
        "\n",
        "\n",
        "  #Insert 1 at the beginning. So linked list becomes 1->7->6->None\n",
        "  llist.push(1);\n",
        "\n",
        "  print(\"Insert 1 at the beginning linked List is : \",end=\"\")\n",
        "  llist.printList()\n",
        "\n",
        "  print(\"\\r\")\n",
        "\n",
        "  #Insert 4 at the end. So linked list becomes 1->7->6->4->None\n",
        "  llist.append(4)\n",
        "\n",
        "  print(\"Insert 4 at the end linked List is : \",end=\"\")\n",
        "  llist.printList()\n",
        "\n",
        "  print(\"\\r\")\n",
        "\n",
        "  #Insert 8 after 7. So linked list becomes 1-> 7-> 8-> 6-> 4-> None\n",
        "  llist.insertAfter(llist.head.next,8)\n",
        "\n",
        "  print(\"Insert 8 after 7 linked List is : \",end=\"\")\n",
        "  llist.printList()\n",
        "\n",
        "  print(\"\\r\")\n",
        "\n",
        "  print(\"Created linked list is : \",end=\"\")\n",
        "  llist.printList()\n",
        "\n",
        "\n",
        "\n"
      ],
      "metadata": {
        "colab": {
          "base_uri": "https://localhost:8080/"
        },
        "id": "f9MclXdKiCEq",
        "outputId": "8e330480-89b5-4a1f-afa6-035634fccead"
      },
      "execution_count": null,
      "outputs": [
        {
          "output_type": "stream",
          "name": "stdout",
          "text": [
            "Created linked List when 6 is added : 6 \r\n",
            "Insert 7 at the beginning linked List is : 7 6 \r\n",
            "Insert 1 at the beginning linked List is : 1 7 6 \r\n",
            "Insert 4 at the end linked List is : 1 7 6 4 \r\n",
            "Insert 8 after 7 linked List is : 1 7 8 6 4 \r\n",
            "Created linked list is : 1 7 8 6 4 "
          ]
        }
      ]
    },
    {
      "cell_type": "markdown",
      "source": [
        "###Analternate method by using constructor call:\n",
        "###i.Another method uses a constructor call inside the node class to minimize the memory allocation work.\n",
        "###ii. It also reduces the number of lines of code."
      ],
      "metadata": {
        "id": "Qr6GZplm_9iJ"
      }
    },
    {
      "cell_type": "code",
      "source": [
        "##Alternate method to declare the class \n",
        "##in order to minimize the memory allocation work.\n",
        "\n",
        "#Node class\n",
        "class Node:\n",
        "  def __init__(self,data):\n",
        "    self.data = data #Assign the data\n",
        "    self.next = None #Initiate next as None\n",
        "\n",
        "#Linked list class\n",
        "class LinkedList:\n",
        "  #Function to initialize the head\n",
        "  def __init__(self):\n",
        "    self.head = None\n",
        "\n",
        "  #Insert a new node at the begainning\n",
        "  def insertAtHead(self,new_data):\n",
        "\n",
        "    ##1&2:Allocate the Node and Put the data\n",
        "    new_node = Node(new_data)\n",
        "\n",
        "    ##3. Make the next as new Node\n",
        "    new_node.next = self.head\n",
        "\n",
        "    #4.Move the head to print to new head\n",
        "    self.head = new_node\n",
        "\n",
        "  #Inserts a ne node after the given prev_data.\n",
        "  def insertAfter(self, prev_data, new_data):\n",
        "\n",
        "    #1.Check if the linked list is empty or not\n",
        "    if self.head is Node:\n",
        "      return\n",
        "\n",
        "    #2.Create new node & put in the data\n",
        "    new_node = Node(new_data)\n",
        "\n",
        "    #3.If prev_data is at the first position \n",
        "    if (prev_data == self.head.data):\n",
        "      new_node.next = self.head.next\n",
        "      self.head.next = new_node\n",
        "      return\n",
        "\n",
        "    #4.check if the given prev_data exists\n",
        "    head = self.head\n",
        "    while (head.data != prev_data):\n",
        "      head = head.next\n",
        "      if head == None:\n",
        "        return\n",
        "    new_node.next = head.next\n",
        "    head.next = new_node\n",
        "  #------------------------------------------------------------------------\n",
        "  #Append a new node at the end.\n",
        "  def insertattail(self,new_data):\n",
        "\n",
        "    #1.Create a new node\n",
        "    #2.Put in the data \\\n",
        "    #3.Set next as None\n",
        "    new_node = Node(new_data)\n",
        "\n",
        "    #4.If the linked list is empty, Then make a new node as head\n",
        "    if self.head is None:\n",
        "      self.head = new_node\n",
        "      return\n",
        "\n",
        "    #5.Else traverse till the last node\n",
        "    last = self.head\n",
        "    while(last.next):\n",
        "      last = last.next\n",
        "    \n",
        "    #6.Change the next of last node\n",
        "    last.next = new_node\n",
        "\n",
        "  #Utility function to print the linked list\n",
        "  def printList(self):\n",
        "    temp = self.head\n",
        "    while (temp):\n",
        "      print(temp.data, end=\" -> \")\n",
        "      temp = temp.next\n",
        "    print(\"NULL\")\n",
        "\n",
        "#Code execution starts here\n",
        "if __name__ == '__main__':\n",
        "\n",
        "  #Start with the empty list\n",
        "  llist = LinkedList()\n",
        "\n",
        "  llist.insertAtHead(1)\n",
        "  llist.insertAtHead(1)\n",
        "  print(\"After insertion at head: \", end=\" \")\n",
        "  llist.printList()\n",
        "  print(\"\\r\")\n",
        "\n",
        "  llist.insertattail(4)\n",
        "  llist.insertattail(5)\n",
        "  print(\"After insertion at tail: \", end=\" \")\n",
        "  llist.printList()\n",
        "  print(\"\\r\")\n",
        "\n",
        "  llist.insertAfter(1, 2)\n",
        "  llist.insertAfter(5, 6)\n",
        "  print(\"After insertion at the given postion: \", end=\" \")\n",
        "  llist.printList()\n",
        "  print(\"\\r\")\n"
      ],
      "metadata": {
        "colab": {
          "base_uri": "https://localhost:8080/"
        },
        "id": "_azfkb1tn_NU",
        "outputId": "cbaa6fb2-5562-4c56-953e-697b4adc4205"
      },
      "execution_count": 1,
      "outputs": [
        {
          "output_type": "stream",
          "name": "stdout",
          "text": [
            "After insertion at head:  1 -> 1 -> NULL\n",
            "\r\n",
            "After insertion at tail:  1 -> 1 -> 4 -> 5 -> NULL\n",
            "\r\n",
            "After insertion at the given postion:  1 -> 2 -> 1 -> 4 -> 5 -> 6 -> NULL\n",
            "\r\n"
          ]
        }
      ]
    },
    {
      "cell_type": "code",
      "source": [],
      "metadata": {
        "id": "tflXg1taImv1"
      },
      "execution_count": 1,
      "outputs": []
    }
  ]
}