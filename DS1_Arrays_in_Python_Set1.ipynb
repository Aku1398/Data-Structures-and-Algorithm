{
  "nbformat": 4,
  "nbformat_minor": 0,
  "metadata": {
    "colab": {
      "provenance": []
    },
    "kernelspec": {
      "name": "python3",
      "display_name": "Python 3"
    },
    "language_info": {
      "name": "python"
    }
  },
  "cells": [
    {
      "cell_type": "markdown",
      "source": [
        "# Arrays in Python\n",
        "## An array is the collection of items stored at contiguous memory location.\n",
        "## The idea is to store the multiple items of the same type together.\n",
        "## This makes easier to calculate the position of each element by simply adding an offset to a base value, i.e., the memory location of the first element of array.\n"
      ],
      "metadata": {
        "id": "auMzEyieWq3D"
      }
    },
    {
      "cell_type": "markdown",
      "source": [
        "##Operations in Array\n",
        "###1.**array(data type, value list)**: This function is used to **crated an array** with data type and value list specified in its arguments.\n",
        "###2.**append()**: This function is used to **add the value mentioned in ites argument t the end of the array**.\n",
        "###3.**insert(i,x)**: This function is used to **add the value(x) at the ith position specified in its argument**.\n",
        "###4.**pop()**: This function is used to **removes the element of the position mentioned** in its argument and returns it.\n",
        "###5.**remove()**: This function is used to **remove the first occurrence of the value** mentioned in ites arguments.\n",
        "###6.**index()**: This function returns the **index of the first occurence of the value mentioned** in the arguments.\n",
        "###7.**reverse()**: This function reverse the array."
      ],
      "metadata": {
        "id": "9QeChkeVYfIA"
      }
    },
    {
      "cell_type": "code",
      "execution_count": 4,
      "metadata": {
        "colab": {
          "base_uri": "https://localhost:8080/"
        },
        "id": "D1Ngc-4BWgkv",
        "outputId": "d6bb790f-9167-4841-853b-8b36e92aa3a8"
      },
      "outputs": [
        {
          "output_type": "stream",
          "name": "stdout",
          "text": [
            "The new crated array is:  1 2 3 \r\n",
            "\r\n",
            "The appended array is : 1 2 3 4 \r\n",
            "\r\n",
            "The array after insertion is : 1 2 5 3 4 "
          ]
        }
      ],
      "source": [
        "## Python code working of array(), append(), insert()\n",
        "\n",
        "#importing \"array\" from array operations\n",
        "import array\n",
        "\n",
        "#initializing array with array values \n",
        "#initializes array with signed integers\n",
        "arr = array.array('i', [1,2,3])\n",
        "\n",
        "#printing origional array\n",
        "print(\"The new crated array is: \",end=\" \")\n",
        "for i in range(0, 3):\n",
        "  print(arr[i], end=\" \")\n",
        "\n",
        "print(\"\\r\")\n",
        "\n",
        "#using append() to insert new value at the end\n",
        "arr.append(4);\n",
        "print(\"\\r\")\n",
        "#printing the append array\n",
        "print(\"The appended array is : \", end=\"\")\n",
        "for i in range (0,4):\n",
        "  print(arr[i], end=\" \")\n",
        "\n",
        "print(\"\\r\")\n",
        "\n",
        "# using insert() to insert value at specific position.\n",
        "#insert 5 at 2nd postion\n",
        "arr.insert(2,5)\n",
        "\n",
        "print(\"\\r\")\n",
        "\n",
        "#printin array after insertion\n",
        "print(\"The array after insertion is : \", end=\"\")\n",
        "for i in range (0,5):\n",
        "  print(arr[i], end=\" \")\n"
      ]
    },
    {
      "cell_type": "code",
      "source": [
        "## Python code using pop() and rmove()\n",
        "\n",
        "#importing \"array\" for array operations\n",
        "import array\n",
        "\n",
        "#initializing array with array values \n",
        "#initializes array with the sign of integers\n",
        "arr= array.array('i', [1,2,3,4,5])\n",
        "\n",
        "#printing orignal array\n",
        "print(\"The new created array is: \", end=\"\")\n",
        "for i in range (0,5):\n",
        "  print(arr[i], end=\" \")\n",
        "\n",
        "print(\"\\r\")\n",
        "\n",
        "#using pop() to remove element at 2nd position\n",
        "print(\"The popped element is: \", end=\"\")\n",
        "print(arr.pop(2));\n",
        "\n",
        "#printing array after popping\n",
        "print(\"The array after popping is :\", end=\"\")\n",
        "for i in range(0,4):\n",
        "  print(arr[i], end=\"\")\n",
        "\n",
        "print(\"\\r\")\n",
        "\n",
        "#using remove() to remove 1st occurence of 1\n",
        "arr.remove(1)\n",
        "\n",
        "#printing array after removing\n",
        "print(\"The array after removing is: \",end=\"\")\n",
        "for i in range (0,3):\n",
        "  print(arr[i], end=\"\")\n"
      ],
      "metadata": {
        "colab": {
          "base_uri": "https://localhost:8080/"
        },
        "id": "skGl9UqvfPx8",
        "outputId": "8702a40d-3f44-4f2d-cb4e-fb9163cadd48"
      },
      "execution_count": 6,
      "outputs": [
        {
          "output_type": "stream",
          "name": "stdout",
          "text": [
            "The new created array is: 1 2 3 4 5 \r\n",
            "The popped element is: 3\n",
            "The array after popping is :1245\r\n",
            "The array after removing is: 245"
          ]
        }
      ]
    },
    {
      "cell_type": "code",
      "source": [
        "##Python program working with index() and reverse()\n",
        "\n",
        "#imporing \"array\" with array operation\n",
        "import array\n",
        "\n",
        "##initializing the array\n",
        "arr = array.array('i',[1,2,3,4,5,6])\n",
        "\n",
        "#printing the origional array\n",
        "print(\"The original array is :\", end=\"\")\n",
        "for i in range (0,6):\n",
        "  print(arr[i], end=\"\")\n",
        "\n",
        "print(\"\\r\")\n",
        "\n",
        "#using the index() to print of 1st occurence of 2\n",
        "print(\"The index of 1st occurence of 2 is : \", end=\"\")\n",
        "print(arr.index(2))\n",
        "\n",
        "##Printing agter indexing\n",
        "print(\"After indexing: \",end=\"\")\n",
        "for i in range(0,5):\n",
        "  print(arr[i], end=\"\")\n",
        "\n",
        "print(\"\\r\")\n",
        "\n",
        "#using reverse to reverse the array\n",
        "arr.reverse()\n",
        "#printing array after reversing\n",
        "print(\"The array after reversing is : \", end=\"\")\n",
        "for i in range(0,6):\n",
        "  print(arr[i], end=\" \")"
      ],
      "metadata": {
        "colab": {
          "base_uri": "https://localhost:8080/"
        },
        "id": "bW180tUiiDio",
        "outputId": "f8baa941-b41f-4a8e-d00b-319ee48ecde8"
      },
      "execution_count": 9,
      "outputs": [
        {
          "output_type": "stream",
          "name": "stdout",
          "text": [
            "The original array is :123456\r\n",
            "The index of 1st occurence of 2 is : 1\n",
            "After indexing: 12345\r\n",
            "The array after reversing is : 6 5 4 3 2 1 "
          ]
        }
      ]
    },
    {
      "cell_type": "code",
      "source": [],
      "metadata": {
        "id": "YQV9swMLkpBA"
      },
      "execution_count": null,
      "outputs": []
    }
  ]
}