{
  "nbformat": 4,
  "nbformat_minor": 0,
  "metadata": {
    "colab": {
      "provenance": []
    },
    "kernelspec": {
      "name": "python3",
      "display_name": "Python 3"
    },
    "language_info": {
      "name": "python"
    }
  },
  "cells": [
    {
      "cell_type": "markdown",
      "source": [
        "#Linked list in Python\n",
        "\n",
        "## A Linked   List is a linear data structure which looks like a chain of nodes, where each node is a different element.\n",
        "## Unlike    Arrays, Linked List elements are not stored at a contiguous location.\n",
        "##---------------------------------------------------------------------\n",
        "##It is basically chains of nodes, each node contains information swuch as data and a pointer to the next node in the chain.\n",
        "##In the linked list there is a head pointer, which points to the first element of the linked list, and if the list is empty then it is simply points to the null or nothing.\n",
        "\n"
      ],
      "metadata": {
        "id": "OULFK4VTIzai"
      }
    },
    {
      "cell_type": "markdown",
      "source": [
        "## Why linked list data structure needed?\n",
        "##Advantages\n",
        "###1.Dynamic Data Structure: The size of memory can be allocated or de-allocated at run time based on the operation or deletion.\n",
        "###2.Ease of Insertion/Deletion: The insertion and deletion of elements are simpler than array since no elements need to be shifted after than array since no elements need to be shifted after insertion and deletion, Just the address needed to be updated.\n",
        "###3.Efficient Memory Utilization: Linked list is the dynamic data structure the size increases or decreases as per the requirement so this acvoids the wastage of memory.\n",
        "###4.Implementation: Various advanced data structures can be implemented using a linked list a stack, queue, graph, hash maps, etc."
      ],
      "metadata": {
        "id": "f3ejmOesI6nb"
      }
    },
    {
      "cell_type": "markdown",
      "source": [
        "## Types of linked lists: \n",
        "###1.Single-linked list\n",
        "###2.Double linked list\n",
        "###3.Circular linked list"
      ],
      "metadata": {
        "id": "B6VduSI3K747"
      }
    },
    {
      "cell_type": "markdown",
      "source": [
        "###1. Single-linked list:\n",
        "#### Traversal of items can be done in the forward direction only due to the linking of every node to its next node.\n"
      ],
      "metadata": {
        "id": "sPNj5kXYK8Dd"
      }
    },
    {
      "cell_type": "code",
      "execution_count": 1,
      "metadata": {
        "id": "HQSx-eidE-cA"
      },
      "outputs": [],
      "source": [
        "#Representation of single linked list:\n",
        "\n",
        "#Node class\n",
        "class Node:\n",
        "  #Function to initialize the node object\n",
        "  def __init__(self,data):\n",
        "    self.data = data #Assign data \n",
        "    self.next = None #Initialize next as null\n",
        "\n",
        "#Linked List Class\n",
        "\n",
        "class LinkedList:\n",
        "\n",
        "  #Function to initialize the Linked List object.\n",
        "  def __init__(self):\n",
        "    self.head = None"
      ]
    },
    {
      "cell_type": "markdown",
      "source": [
        "### Commomly used operations on Single Linked List:\n",
        "####The following operations are performed on a Single Linked List\n",
        "###1.Insertion: The insertion can be performed in three ways. They are follows.....\n",
        "####i.Inserting At the Beginning of the list\n",
        "####ii.IUnserting At the End of the list\n",
        "####iii.Inserting At the Specific location in the list\n",
        "####-----------------------------------------\n",
        "###2.Deletion: The deletion operation can be performed in three ways.They are follows.......\n",
        "####i.Deleting from the beginning of the list \n",
        "####ii.Deleting from the end of the list\n",
        "####iii.Deleting a Specific Node \n",
        "####-----------------------------------------\n",
        "###3.Search: It is a process of determining and retrieving a specific node either from the front, the end or anywhere in the list.\n",
        "####-----------------------------------------\n",
        "###4.Display: This process displays the elements of a single linked list.\n",
        "####----------------------------------------- \n",
        "\n",
        "\n",
        "\n"
      ],
      "metadata": {
        "id": "-kNB4ChJM5nd"
      }
    },
    {
      "cell_type": "markdown",
      "source": [
        "##2.Doubly linked list\n",
        "### Traversal of items can be done in both forward and backward directions as every node contains an additional prev pointer that points to the previous node.\n"
      ],
      "metadata": {
        "id": "TlMz-wLCPqeH"
      }
    },
    {
      "cell_type": "code",
      "source": [
        "#Node of a doubly linked list\n",
        "class Node:\n",
        "  def __init__(self, next=None, prev=None, data=None):\n",
        "    self.next = next #reference to next node in DLL\n",
        "    self.prev = prev #reference to previous node in DLL\n",
        "    self.data = data"
      ],
      "metadata": {
        "id": "wqj_ILHCItVM"
      },
      "execution_count": 2,
      "outputs": []
    },
    {
      "cell_type": "markdown",
      "source": [
        "### Commonly used operations on Double-Linked List:\n",
        "###1.Insertion: The insertion operation can be performed in three ways as follows:\n",
        "####i.Inserting At the begainning of the list\n",
        "####ii.Inserting after a given node \n",
        "####iii.Inserting at the end\n",
        "####iv.Inserting before a given node.\n",
        "####-----------------------------------------\n",
        "###2.Deletion : The deletion operation can be performed in 3 ways as follows\n",
        "####i.Deleting from the Beginning of the list\n",
        "####ii.Deleting from the End of the list\n",
        "####-----------------------------------------\n",
        "###3.Display: This process dispays the elements of a double-linked list.\n",
        "####-----------------------------------------"
      ],
      "metadata": {
        "id": "h0q0jY-IRRVg"
      }
    },
    {
      "cell_type": "markdown",
      "source": [
        "##3.Circular Linked Lists\n",
        "###A circular linked list is a type of linked list in which the first and the last nodes are also connected to each other to form a circle, there is no NULL at the end.\n",
        "###Commonly used operations on Circular Linked List:\n",
        "###The following operations are performed on a Circular Linked List.\n",
        "###1.Insertion:The insertion operation can be forformed in three ways:\n",
        "####i.Insertion in an empty list\n",
        "####ii.Insertion at the beginning of the list\n",
        "####iii.Insertion at the end of the list \n",
        "####iv.Insertion in between the nodes\n",
        "####-----------------------------------------\n",
        "###2.Deletion: The deletion operation can be performed in three ways:\n",
        "####-----------------------------------------\n",
        "###3.Display:Thsi process displays the elements of teh Circular linked list.\n",
        "####-------------------------------------"
      ],
      "metadata": {
        "id": "4FRnNDrQTAlz"
      }
    },
    {
      "cell_type": "markdown",
      "source": [
        "##Linked List VS Array\n",
        "##A.Linked List: \n",
        "###1.Linked lists are not stored in contiguous location.\n",
        "###2.Dynamic in size.\n",
        "###3.Memory is allocated at run time.\n",
        "###4.Uses more memory because it stores both data and the address of next node.\n",
        "###5.Element accessing requires the traversal of whole linked list.\n",
        "###6.Insertion and deletion operation is faster.\n",
        "###-------------------------------------\n",
        "##B.Array:\n",
        "###1.Arrays are stored in contiguopus location.\n",
        "###2.Fixed in size.\n",
        "###3.Memory is allocated at compile time.\n",
        "###4.Uses less memory than linked lists.\n",
        "###5.Elements can be accessed easily.\n",
        "###6.Insertion and deletion operation takes time.\n",
        "###-------------------------------------\n",
        "\n",
        "##Linked List VS Array in Time CXomplexity\n",
        "\n",
        "## Operation---------------------------------Linked List----------Array\n",
        "###----------------------------------\n",
        "###1.Random Access-------------------------------O(N)-------------O(1)\n",
        "###2.Insertion and deletion at beginning---------O(1)--------------(N)\n",
        "###3.Insertion and deletion at end---------------O(N)-------------O(1)\n",
        "###4.Insertion and deletion at a random p--------O(N)-------------O(N)"
      ],
      "metadata": {
        "id": "Dojb1p7RbwWy"
      }
    },
    {
      "cell_type": "markdown",
      "source": [
        "##Advantages of Linked Lists:\n",
        "###1.Dynamic nature: Linked lists are used for dynamic memory allocation.\n",
        "###2.Memory Efficient: Memory consumption of a linked list is efficent as its size can grow or shrink dynamically according to our requirementss,which means effective memory utilization hence, no memory wastage.\n",
        "###3.Ease of Insertion and deletion: Insertion and deletion of nodes are easily implemented in a linked list at any postion.\n",
        "###4.Implementation: For the implementation of stacks and queues and for the representation of trees and graphs.\n",
        "###5.The linked list can be explained in constant time.\n",
        "###-------------------------------------\n"
      ],
      "metadata": {
        "id": "ja6b1cC4gR6r"
      }
    },
    {
      "cell_type": "markdown",
      "source": [
        "##Disadvantages of Linked Lists:\n",
        "###1.Memory usage: The use of pointers is more in linked list hence, complex and requires more memory.\n",
        "###2.Accessing the node:Random access is not possible due to dynamic memory allocation.\n",
        "###3.Search operation costly: Searching for an element is costly and requires O(n) time complexity.\n",
        "###4.Traversing in reverse order: Traversing is not possible in singly linked lists."
      ],
      "metadata": {
        "id": "XHD8Y9GdiB2K"
      }
    },
    {
      "cell_type": "code",
      "source": [],
      "metadata": {
        "id": "-2bIFiyyRP5w"
      },
      "execution_count": null,
      "outputs": []
    }
  ]
}